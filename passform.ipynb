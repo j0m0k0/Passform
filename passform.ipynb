{
  "cells": [
    {
      "cell_type": "code",
      "execution_count": 1,
      "metadata": {
        "colab": {
          "base_uri": "https://localhost:8080/"
        },
        "id": "mJ3mroOyfEn0",
        "outputId": "49a277f8-dda4-42c2-fa3f-6a9bbfc6735e"
      },
      "outputs": [
        {
          "name": "stdout",
          "output_type": "stream",
          "text": [
            "Requirement already satisfied: optuna in ./passenv/lib/python3.9/site-packages (3.6.1)\n",
            "Requirement already satisfied: alembic>=1.5.0 in ./passenv/lib/python3.9/site-packages (from optuna) (1.13.1)\n",
            "Requirement already satisfied: colorlog in ./passenv/lib/python3.9/site-packages (from optuna) (6.8.2)\n",
            "Requirement already satisfied: numpy in ./passenv/lib/python3.9/site-packages (from optuna) (1.26.4)\n",
            "Requirement already satisfied: packaging>=20.0 in ./passenv/lib/python3.9/site-packages (from optuna) (24.0)\n",
            "Requirement already satisfied: sqlalchemy>=1.3.0 in ./passenv/lib/python3.9/site-packages (from optuna) (2.0.29)\n",
            "Requirement already satisfied: tqdm in ./passenv/lib/python3.9/site-packages (from optuna) (4.66.2)\n",
            "Requirement already satisfied: PyYAML in ./passenv/lib/python3.9/site-packages (from optuna) (6.0.1)\n",
            "Requirement already satisfied: Mako in ./passenv/lib/python3.9/site-packages (from alembic>=1.5.0->optuna) (1.3.3)\n",
            "Requirement already satisfied: typing-extensions>=4 in ./passenv/lib/python3.9/site-packages (from alembic>=1.5.0->optuna) (4.11.0)\n",
            "Requirement already satisfied: MarkupSafe>=0.9.2 in ./passenv/lib/python3.9/site-packages (from Mako->alembic>=1.5.0->optuna) (2.1.5)\n"
          ]
        }
      ],
      "source": [
        "!pip install optuna"
      ]
    },
    {
      "cell_type": "code",
      "execution_count": null,
      "metadata": {
        "id": "0qxs81BhW3kN"
      },
      "outputs": [],
      "source": [
        "import warnings\n",
        "warnings.filterwarnings('ignore')"
      ]
    },
    {
      "cell_type": "code",
      "execution_count": null,
      "metadata": {
        "id": "WyzBpPkAC2km"
      },
      "outputs": [],
      "source": [
        "# Import packages\n",
        "\n",
        "import io\n",
        "import math\n",
        "from datetime import datetime\n",
        "import pickle\n",
        "\n",
        "import matplotlib.pyplot as plt\n",
        "import pandas as pd\n",
        "import pytz\n",
        "import matplotlib.pyplot as plt\n",
        "import optuna\n",
        "from torch.utils.data import IterableDataset\n",
        "from torch.optim.lr_scheduler import StepLR\n",
        "import torch\n",
        "from torch.utils.data import Dataset, DataLoader, random_split\n",
        "from torch.nn.utils.rnn import pad_sequence\n",
        "import torch.nn.functional as F\n",
        "from torchtext.vocab import build_vocab_from_iterator\n",
        "from torch import nn, optim\n",
        "from torch.optim import Adam"
      ]
    },
    {
      "cell_type": "code",
      "execution_count": null,
      "metadata": {
        "colab": {
          "base_uri": "https://localhost:8080/"
        },
        "id": "inOL6pKiOdvu",
        "outputId": "5675a29f-d101-486b-8625-74f1cbfa86bf"
      },
      "outputs": [
        {
          "name": "stdout",
          "output_type": "stream",
          "text": [
            "Mounted at /content/drive\n"
          ]
        }
      ],
      "source": [
        "from google.colab import drive\n",
        "drive.mount('/content/drive')"
      ]
    },
    {
      "cell_type": "markdown",
      "metadata": {
        "id": "e3Iqq0nZuHge"
      },
      "source": [
        "It modifies each password by adding special tokens '<sos>' (start of sequence) and <eos> (end of sequence) to the beginning and end of the password, respectively.\n",
        "These tokens explicitly mark the boundaries of a password, helping the model to learn when a password begins and ends. This is crucial for the model to structure its output properly during generation."
      ]
    },
    {
      "cell_type": "code",
      "execution_count": null,
      "metadata": {
        "id": "tHMxVZ4aVzjC"
      },
      "outputs": [],
      "source": [
        "base_path = 'drive/MyDrive/CPS-Project/'"
      ]
    },
    {
      "cell_type": "markdown",
      "metadata": {
        "id": "R1ghM3zTuJC9"
      },
      "source": []
    },
    {
      "cell_type": "code",
      "execution_count": 76,
      "metadata": {
        "id": "jlT7gdVoC2ko"
      },
      "outputs": [],
      "source": [
        "class PasswordDataset(Dataset):\n",
        "    def __init__(self, path, limit=None):\n",
        "        with open(path, 'r', encoding='latin1') as file:\n",
        "            if limit is not None:\n",
        "                self.passwords = [next(file).strip() for _ in range(limit) if next(file).strip()]\n",
        "            else:\n",
        "                self.passwords = [line.strip() for line in file if line.strip()]\n",
        "\n",
        "    def __len__(self):\n",
        "        return len(self.passwords)\n",
        "\n",
        "    def __getitem__(self, idx):\n",
        "        return self.passwords[idx]\n",
        "\n",
        "def yield_tokens(data_iter):\n",
        "    for password in data_iter:\n",
        "        yield ['<sos>'] + list(password) + ['<eos>']\n",
        "\n",
        "def store_best_params(study):\n",
        "    # Get the best parameters\n",
        "    best_params = study.best_params\n",
        "\n",
        "    # Convert the best parameters to a DataFrame\n",
        "    df = pd.DataFrame([best_params])\n",
        "\n",
        "    # Get the current timezone\n",
        "    timestamp = datetime.now().strftime(\"%Y%m%d%H%M%S\")\n",
        "\n",
        "    # Save the DataFrame to a CSV file with the timezone in its name\n",
        "    file_name = f\"params/best_params_{timestamp}.csv\"\n",
        "    df.to_csv(base_path + file_name, index=False)\n",
        "\n",
        "def load_best_params(file_name):\n",
        "    # Load the CSV file containing the best parameters\n",
        "    best_params_df = pd.read_csv(file_name)\n",
        "\n",
        "    # Convert DataFrame to dictionary\n",
        "    best_params = best_params_df.to_dict(orient='records')[0]\n",
        "\n",
        "    return best_params"
      ]
    },
    {
      "cell_type": "code",
      "execution_count": 77,
      "metadata": {
        "id": "DYz4Xesin95f"
      },
      "outputs": [],
      "source": [
        "def save_vocab(vocab, file_path):\n",
        "    \"\"\"\n",
        "    Save a vocabulary object to a file using pickle.\n",
        "\n",
        "    Args:\n",
        "    vocab (Vocab): The vocabulary object.\n",
        "    file_path (str): The path to the file where the vocabulary will be saved.\n",
        "    \"\"\"\n",
        "    with open(file_path, 'wb') as f:\n",
        "        pickle.dump(vocab, f)\n",
        "\n",
        "def load_vocab(file_path):\n",
        "    \"\"\"\n",
        "    Load a vocabulary object from a file using pickle.\n",
        "\n",
        "    Args:\n",
        "    file_path (str): The path to the file from which the vocabulary will be loaded.\n",
        "\n",
        "    Returns:\n",
        "    Vocab: The loaded vocabulary object.\n",
        "    \"\"\"\n",
        "    with open(file_path, 'rb') as f:\n",
        "        vocab = pickle.load(f)\n",
        "    return vocab\n"
      ]
    },
    {
      "cell_type": "code",
      "execution_count": 78,
      "metadata": {
        "id": "mKQD_gxVC2ko"
      },
      "outputs": [],
      "source": [
        "# Load dataset\n",
        "dataset = PasswordDataset(base_path + 'dataset/rockyou.txt', 16000)\n",
        "total_size = len(dataset)\n",
        "train_size = int(0.8 * total_size)  # 80% of the data for training\n",
        "validation_size = int(0.1 * total_size)  # 10% for validation\n",
        "test_size = total_size - train_size - validation_size  # The rest for testing\n",
        "train_dataset, validation_dataset, test_dataset = random_split(\n",
        "    dataset, [train_size, validation_size, test_size])\n",
        "\n",
        "# <unk>: Represents any unknown characters (out-of-vocabulary).\n",
        "# <pad>: Used for padding shorter sequences to a common length in each batch.\n",
        "vocab = build_vocab_from_iterator(yield_tokens(iter(train_dataset)), specials=['<unk>', '<pad>', '<sos>', '<eos>'])\n",
        "vocab.set_default_index(vocab['<unk>'])\n",
        "vocab_size = len(vocab)\n",
        "save_vocab(vocab, base_path + 'vocab/vocab.pkl')\n",
        "\n",
        "def collate_batch(batch):\n",
        "    # Convert batch of raw strings into a batch of character indices\n",
        "    data_list = [torch.tensor(vocab(list(p[:-1])), dtype=torch.long) for p in batch]  # All except the last character\n",
        "    target_list = [torch.tensor(vocab(list(p[1:])), dtype=torch.long) for p in batch]  # All except the first character\n",
        "    data_list = pad_sequence(data_list, padding_value=vocab['<pad>'], batch_first=True)\n",
        "    target_list = pad_sequence(target_list, padding_value=vocab['<pad>'], batch_first=True)\n",
        "    return data_list, target_list\n",
        "\n",
        "\n",
        "batch_size = 32 # 128\n",
        "# Assuming train_dataset, validation_dataset, test_dataset are defined properly\n",
        "train_loader = DataLoader(train_dataset, batch_size=batch_size, shuffle=True, collate_fn=collate_batch)\n",
        "validation_loader = DataLoader(validation_dataset, batch_size=batch_size, shuffle=False, collate_fn=collate_batch)\n",
        "test_loader = DataLoader(test_dataset, batch_size=batch_size, shuffle=False, collate_fn=collate_batch)\n",
        "\n"
      ]
    },
    {
      "cell_type": "code",
      "execution_count": 79,
      "metadata": {
        "colab": {
          "base_uri": "https://localhost:8080/"
        },
        "id": "i0hyhfqr213G",
        "outputId": "af7c8fa0-2f50-4de2-f64a-4008b1f4af90"
      },
      "outputs": [
        {
          "name": "stdout",
          "output_type": "stream",
          "text": [
            "400\n",
            "51\n",
            "50\n"
          ]
        }
      ],
      "source": [
        "print(len(train_loader))\n",
        "print(len(test_loader))\n",
        "print(len(validation_loader))\n",
        "# number of batches in each loader"
      ]
    },
    {
      "cell_type": "code",
      "execution_count": 80,
      "metadata": {
        "id": "n81PPIC7C2kp"
      },
      "outputs": [],
      "source": [
        "class PositionalEncoding(nn.Module):\n",
        "    def __init__(self, d_model, dropout=0.1, max_len=5000):\n",
        "        super(PositionalEncoding, self).__init__()\n",
        "        self.dropout = nn.Dropout(p=dropout)\n",
        "\n",
        "        position = torch.arange(max_len).unsqueeze(1)\n",
        "        div_term = torch.exp(torch.arange(0, d_model, 2) * -(math.log(10000.0) / d_model))\n",
        "        pe = torch.zeros(max_len, 1, d_model)\n",
        "        pe[:, 0, 0::2] = torch.sin(position * div_term)\n",
        "        pe[:, 0, 1::2] = torch.cos(position * div_term)\n",
        "        self.register_buffer('pe', pe)\n",
        "\n",
        "    def forward(self, x):\n",
        "        x = x + self.pe[:x.size(0)]\n",
        "        return self.dropout(x)\n",
        "\n",
        "class TransformerModel(nn.Module):\n",
        "    def __init__(self, num_layers, dropout_rate, vocab_size, d_model=512, nhead=8):\n",
        "        super(TransformerModel, self).__init__()\n",
        "        self.model_type = 'Transformer'\n",
        "        self.d_model = d_model\n",
        "        self.nhead = nhead\n",
        "\n",
        "        self.encoder = nn.Embedding(vocab_size, d_model)\n",
        "        self.pos_encoder = PositionalEncoding(d_model, dropout=dropout_rate)\n",
        "\n",
        "        encoder_layers = nn.TransformerEncoderLayer(d_model=d_model, nhead=nhead, dim_feedforward=2048, dropout=dropout_rate)\n",
        "        self.transformer_encoder = nn.TransformerEncoder(encoder_layers, num_layers=num_layers)\n",
        "\n",
        "        self.decoder = nn.Linear(d_model, vocab_size)\n",
        "\n",
        "        self.init_weights()\n",
        "\n",
        "    def init_weights(self):\n",
        "        initrange = 0.1\n",
        "        self.encoder.weight.data.uniform_(-initrange, initrange)\n",
        "        self.decoder.bias.data.zero_()\n",
        "        self.decoder.weight.data.uniform_(-initrange, initrange)\n",
        "\n",
        "    def forward(self, src, src_mask=None):\n",
        "        src = self.encoder(src) * math.sqrt(self.d_model)\n",
        "        src = self.pos_encoder(src)\n",
        "        output = self.transformer_encoder(src, src_mask)\n",
        "        output = self.decoder(output)\n",
        "        return output\n"
      ]
    },
    {
      "cell_type": "code",
      "execution_count": 81,
      "metadata": {
        "colab": {
          "base_uri": "https://localhost:8080/"
        },
        "id": "Fo8OTSfUPuAT",
        "outputId": "9bc9e906-b2f2-4a59-b0aa-82a779ce84a5"
      },
      "outputs": [
        {
          "name": "stdout",
          "output_type": "stream",
          "text": [
            "Using device: cuda\n"
          ]
        }
      ],
      "source": [
        "device = torch.device(\"cuda\" if torch.cuda.is_available() else \"cpu\")\n",
        "print(\"Using device:\", device)"
      ]
    },
    {
      "cell_type": "code",
      "execution_count": 87,
      "metadata": {
        "id": "OdsJHrKDZvSZ"
      },
      "outputs": [],
      "source": [
        "def objective(trial):\n",
        "    # Hyperparameters\n",
        "    lr = trial.suggest_float('lr', 1e-5, 1e-2, log=True)\n",
        "    num_layers = trial.suggest_int('num_layers', 1, 4)\n",
        "    dropout_rate = trial.suggest_float('dropout_rate', 0.1, 0.5)\n",
        "\n",
        "    # Predefined (d_model, nhead) combinations\n",
        "    model_configs = [\n",
        "        (128, 4), (256, 4), (256, 8), (512, 8),\n",
        "        (128, 8), (320, 4), (320, 8), (512, 4)\n",
        "    ]\n",
        "    d_model, nhead = trial.suggest_categorical('model_config', model_configs)\n",
        "\n",
        "    # Model initialization\n",
        "    model = TransformerModel(num_layers=num_layers, dropout_rate=dropout_rate,\n",
        "                             vocab_size=vocab_size, d_model=d_model, nhead=nhead)\n",
        "    model.to(device)\n",
        "\n",
        "    optimizer = Adam(model.parameters(), lr=lr)\n",
        "    scheduler = StepLR(optimizer, step_size=1, gamma=0.95)\n",
        "    loss_function = nn.CrossEntropyLoss()\n",
        "\n",
        "    num_epochs = 8\n",
        "    for epoch in range(num_epochs):\n",
        "        model.train()\n",
        "        for data, targets in train_loader:\n",
        "            data, targets = data.to(device), targets.to(device)\n",
        "            optimizer.zero_grad()\n",
        "            output = model(data)\n",
        "            output = output.transpose(1, 2)  # Change shape from [batch, seq_len, features] to [batch, features, seq_len]\n",
        "            loss = loss_function(output, targets)\n",
        "            loss.backward()\n",
        "            optimizer.step()\n",
        "        scheduler.step()\n",
        "\n",
        "        model.eval()\n",
        "        total_loss = 0\n",
        "        with torch.no_grad():\n",
        "            for data, targets in validation_loader:\n",
        "                data, targets = data.to(device), targets.to(device)\n",
        "                output = model(data)\n",
        "                output = output.transpose(1, 2)  # Adjust output dimensions\n",
        "                loss = loss_function(output, targets)\n",
        "                total_loss += loss.item()\n",
        "\n",
        "    return total_loss / len(validation_loader)"
      ]
    },
    {
      "cell_type": "code",
      "execution_count": 88,
      "metadata": {
        "colab": {
          "base_uri": "https://localhost:8080/"
        },
        "id": "6YcH-CVIaq7B",
        "outputId": "c0a12e8a-fb9f-419b-e3fa-104e323b7004"
      },
      "outputs": [
        {
          "name": "stderr",
          "output_type": "stream",
          "text": [
            "[I 2024-04-22 00:04:28,317] A new study created in memory with name: no-name-c9984db9-6c16-4829-b751-691ee4d14486\n",
            "[I 2024-04-22 00:05:04,610] Trial 5 finished with value: 1.5482598447799683 and parameters: {'lr': 0.0006886366645164576, 'num_layers': 1, 'dropout_rate': 0.1450038073174798, 'model_config': (256, 4)}. Best is trial 5 with value: 1.5482598447799683.\n",
            "[I 2024-04-22 00:05:07,581] Trial 4 finished with value: 1.634001784324646 and parameters: {'lr': 5.3900969673353544e-05, 'num_layers': 1, 'dropout_rate': 0.3573092259743832, 'model_config': (128, 8)}. Best is trial 5 with value: 1.5482598447799683.\n",
            "[I 2024-04-22 00:05:46,715] Trial 8 finished with value: 1.5816921758651734 and parameters: {'lr': 0.0008163694423393491, 'num_layers': 1, 'dropout_rate': 0.2519039069338248, 'model_config': (512, 8)}. Best is trial 5 with value: 1.5482598447799683.\n",
            "[I 2024-04-22 00:06:16,785] Trial 9 finished with value: 1.5634595942497254 and parameters: {'lr': 2.801228114319077e-05, 'num_layers': 2, 'dropout_rate': 0.10676439722033648, 'model_config': (512, 8)}. Best is trial 5 with value: 1.5482598447799683.\n",
            "[I 2024-04-22 00:06:33,999] Trial 10 finished with value: 1.5680077624320985 and parameters: {'lr': 0.0015732965399966093, 'num_layers': 2, 'dropout_rate': 0.2969891473655403, 'model_config': (256, 4)}. Best is trial 5 with value: 1.5482598447799683.\n",
            "[I 2024-04-22 00:06:45,535] Trial 7 finished with value: 1.5639728283882142 and parameters: {'lr': 0.00043719976466753, 'num_layers': 3, 'dropout_rate': 0.38791796209708107, 'model_config': (320, 4)}. Best is trial 5 with value: 1.5482598447799683.\n",
            "[I 2024-04-22 00:07:05,831] Trial 11 finished with value: 1.5467144966125488 and parameters: {'lr': 0.0014891518419502929, 'num_layers': 2, 'dropout_rate': 0.1389617389493256, 'model_config': (128, 8)}. Best is trial 11 with value: 1.5467144966125488.\n",
            "[I 2024-04-22 00:07:18,353] Trial 12 finished with value: 1.5638419532775878 and parameters: {'lr': 0.00010251673814221617, 'num_layers': 2, 'dropout_rate': 0.2888875152293618, 'model_config': (320, 8)}. Best is trial 11 with value: 1.5467144966125488.\n",
            "[I 2024-04-22 00:08:23,452] Trial 14 finished with value: 1.7173248577117919 and parameters: {'lr': 0.0016869845444925575, 'num_layers': 2, 'dropout_rate': 0.32926306854369214, 'model_config': (512, 8)}. Best is trial 11 with value: 1.5467144966125488.\n",
            "[I 2024-04-22 00:08:48,895] Trial 15 finished with value: 1.5437394571304321 and parameters: {'lr': 0.0001865003989550649, 'num_layers': 4, 'dropout_rate': 0.18976240457645926, 'model_config': (320, 8)}. Best is trial 15 with value: 1.5437394571304321.\n",
            "[I 2024-04-22 00:09:11,675] Trial 2 finished with value: 1.568516285419464 and parameters: {'lr': 0.001166103263391928, 'num_layers': 3, 'dropout_rate': 0.3454287221740249, 'model_config': (256, 4)}. Best is trial 15 with value: 1.5437394571304321.\n",
            "[I 2024-04-22 00:09:13,084] Trial 13 finished with value: 2.7935477352142333 and parameters: {'lr': 0.0012719865732773866, 'num_layers': 4, 'dropout_rate': 0.42988752165945765, 'model_config': (256, 8)}. Best is trial 15 with value: 1.5437394571304321.\n",
            "[I 2024-04-22 00:10:07,802] Trial 17 finished with value: 1.5497608160972596 and parameters: {'lr': 0.00015841865104702634, 'num_layers': 4, 'dropout_rate': 0.2150149054267385, 'model_config': (128, 4)}. Best is trial 15 with value: 1.5437394571304321.\n",
            "[I 2024-04-22 00:10:27,755] Trial 16 finished with value: 1.6490100049972534 and parameters: {'lr': 2.1043535539891748e-05, 'num_layers': 4, 'dropout_rate': 0.4950734982110919, 'model_config': (512, 4)}. Best is trial 15 with value: 1.5437394571304321.\n",
            "[I 2024-04-22 00:11:15,672] Trial 0 finished with value: 1.5712383079528809 and parameters: {'lr': 0.00033963581332044297, 'num_layers': 3, 'dropout_rate': 0.4862930524701673, 'model_config': (320, 4)}. Best is trial 15 with value: 1.5437394571304321.\n",
            "[I 2024-04-22 00:11:28,139] Trial 19 finished with value: 2.7621906900405886 and parameters: {'lr': 0.009095421793566797, 'num_layers': 4, 'dropout_rate': 0.201531241643717, 'model_config': (512, 4)}. Best is trial 15 with value: 1.5437394571304321.\n",
            "[I 2024-04-22 00:11:42,097] Trial 18 finished with value: 2.751948342323303 and parameters: {'lr': 0.009746203388634534, 'num_layers': 4, 'dropout_rate': 0.1813719564293801, 'model_config': (320, 8)}. Best is trial 15 with value: 1.5437394571304321.\n",
            "[I 2024-04-22 00:11:46,857] Trial 1 finished with value: 1.5539537763595581 and parameters: {'lr': 0.0006775155683737337, 'num_layers': 3, 'dropout_rate': 0.18906095471550746, 'model_config': (320, 4)}. Best is trial 15 with value: 1.5437394571304321.\n",
            "[I 2024-04-22 00:11:57,989] Trial 3 finished with value: 1.6073837208747863 and parameters: {'lr': 4.707177547734542e-05, 'num_layers': 2, 'dropout_rate': 0.43443917187789605, 'model_config': (256, 4)}. Best is trial 15 with value: 1.5437394571304321.\n",
            "[I 2024-04-22 00:12:02,956] Trial 6 finished with value: 1.5553552174568177 and parameters: {'lr': 0.000783147129781451, 'num_layers': 2, 'dropout_rate': 0.2901459119884524, 'model_config': (256, 8)}. Best is trial 15 with value: 1.5437394571304321.\n"
          ]
        },
        {
          "name": "stdout",
          "output_type": "stream",
          "text": [
            "Best trial:\n",
            " Value: 1.5437394571304321\n",
            " Params: \n",
            "    lr: 0.0001865003989550649\n",
            "    num_layers: 4\n",
            "    dropout_rate: 0.18976240457645926\n",
            "    model_config: (320, 8)\n"
          ]
        }
      ],
      "source": [
        "# Create a study object and specify the optimization direction as 'minimize'.\n",
        "# Run Optuna optimization in parallel\n",
        "study = optuna.create_study(direction='minimize')\n",
        "study.optimize(objective, n_trials=20, n_jobs=-1)  # Set n_jobs to -1 to use all available CPU cores\n",
        "\n",
        "print(\"Best trial:\")\n",
        "trial = study.best_trial\n",
        "print(f\" Value: {trial.value}\")\n",
        "print(\" Params: \")\n",
        "for key, value in trial.params.items():\n",
        "    print(f\"    {key}: {value}\")"
      ]
    },
    {
      "cell_type": "code",
      "execution_count": 90,
      "metadata": {
        "colab": {
          "base_uri": "https://localhost:8080/"
        },
        "id": "i2JKe37RC2kp",
        "outputId": "92313fdb-b7d4-48c6-a882-6a77d54a3c08"
      },
      "outputs": [
        {
          "name": "stdout",
          "output_type": "stream",
          "text": [
            "TransformerModel(\n",
            "  (encoder): Embedding(92, 320)\n",
            "  (pos_encoder): PositionalEncoding(\n",
            "    (dropout): Dropout(p=0.18976240457645926, inplace=False)\n",
            "  )\n",
            "  (transformer_encoder): TransformerEncoder(\n",
            "    (layers): ModuleList(\n",
            "      (0-3): 4 x TransformerEncoderLayer(\n",
            "        (self_attn): MultiheadAttention(\n",
            "          (out_proj): NonDynamicallyQuantizableLinear(in_features=320, out_features=320, bias=True)\n",
            "        )\n",
            "        (linear1): Linear(in_features=320, out_features=2048, bias=True)\n",
            "        (dropout): Dropout(p=0.18976240457645926, inplace=False)\n",
            "        (linear2): Linear(in_features=2048, out_features=320, bias=True)\n",
            "        (norm1): LayerNorm((320,), eps=1e-05, elementwise_affine=True)\n",
            "        (norm2): LayerNorm((320,), eps=1e-05, elementwise_affine=True)\n",
            "        (dropout1): Dropout(p=0.18976240457645926, inplace=False)\n",
            "        (dropout2): Dropout(p=0.18976240457645926, inplace=False)\n",
            "      )\n",
            "    )\n",
            "  )\n",
            "  (decoder): Linear(in_features=320, out_features=92, bias=True)\n",
            ")\n",
            "Total number of parameters in the model: 6959964\n"
          ]
        }
      ],
      "source": [
        "# Retrieve the best parameters\n",
        "\n",
        "# Uncomment these lines if you want to use the best parameters achieved from optuna\n",
        "store_best_params(study)\n",
        "best_params = study.best_params\n",
        "\n",
        "# Uncomment these two lines if you want to load parameters\n",
        "# best_params = load_best_params(base_path + 'params/best_params_20240421180858.csv')\n",
        "best_lr = best_params['lr']\n",
        "\n",
        "best_num_layers = best_params['num_layers']\n",
        "best_dropout_rate = best_params['dropout_rate']\n",
        "best_d_model = best_params['model_config'][0]\n",
        "best_nhead = best_params['model_config'][1]\n",
        "\n",
        "\n",
        "model = TransformerModel(num_layers=best_num_layers, dropout_rate=best_dropout_rate, vocab_size=vocab_size, d_model=best_d_model, nhead=best_nhead).to(device)\n",
        "print(model)\n",
        "total_params = sum(p.numel() for p in model.parameters())\n",
        "print(f\"Total number of parameters in the model: {total_params}\")\n"
      ]
    },
    {
      "cell_type": "code",
      "execution_count": 91,
      "metadata": {
        "colab": {
          "base_uri": "https://localhost:8080/"
        },
        "id": "jXflQ2W0KiDP",
        "outputId": "0eab15bf-93c4-4878-f91f-45f279f213ef"
      },
      "outputs": [
        {
          "name": "stdout",
          "output_type": "stream",
          "text": [
            "Epoch 1: Train Loss 1.8289, Train Acc 0.48, Val Loss 1.6651, Val Acc 0.50, Test Loss 1.6596, Test Acc 0.52\n",
            "Epoch 2: Train Loss 1.6609, Train Acc 0.50, Val Loss 1.6410, Val Acc 0.50, Test Loss 1.6357, Test Acc 0.53\n",
            "Epoch 3: Train Loss 1.6414, Train Acc 0.50, Val Loss 1.6330, Val Acc 0.51, Test Loss 1.6304, Test Acc 0.53\n",
            "Epoch 4: Train Loss 1.6316, Train Acc 0.50, Val Loss 1.6261, Val Acc 0.51, Test Loss 1.6145, Test Acc 0.54\n",
            "Epoch 5: Train Loss 1.6359, Train Acc 0.50, Val Loss 1.6222, Val Acc 0.51, Test Loss 1.6137, Test Acc 0.54\n",
            "Epoch 6: Train Loss 1.6171, Train Acc 0.51, Val Loss 1.6241, Val Acc 0.51, Test Loss 1.6171, Test Acc 0.53\n",
            "Epoch 7: Train Loss 1.6222, Train Acc 0.51, Val Loss 1.6141, Val Acc 0.51, Test Loss 1.6044, Test Acc 0.54\n",
            "Epoch 8: Train Loss 1.6130, Train Acc 0.51, Val Loss 1.6131, Val Acc 0.51, Test Loss 1.6078, Test Acc 0.54\n",
            "Epoch 9: Train Loss 1.6131, Train Acc 0.51, Val Loss 1.5975, Val Acc 0.51, Test Loss 1.5966, Test Acc 0.54\n",
            "Epoch 10: Train Loss 1.6040, Train Acc 0.51, Val Loss 1.6108, Val Acc 0.51, Test Loss 1.6064, Test Acc 0.53\n",
            "Epoch 11: Train Loss 1.6001, Train Acc 0.51, Val Loss 1.6024, Val Acc 0.52, Test Loss 1.5978, Test Acc 0.54\n",
            "Epoch 12: Train Loss 1.5990, Train Acc 0.51, Val Loss 1.5992, Val Acc 0.52, Test Loss 1.5869, Test Acc 0.54\n",
            "Epoch 13: Train Loss 1.5927, Train Acc 0.51, Val Loss 1.5974, Val Acc 0.52, Test Loss 1.5832, Test Acc 0.54\n",
            "Epoch 14: Train Loss 1.5818, Train Acc 0.52, Val Loss 1.5863, Val Acc 0.52, Test Loss 1.5828, Test Acc 0.54\n",
            "Epoch 15: Train Loss 1.5822, Train Acc 0.52, Val Loss 1.5826, Val Acc 0.52, Test Loss 1.5660, Test Acc 0.54\n",
            "Epoch 16: Train Loss 1.5751, Train Acc 0.52, Val Loss 1.5739, Val Acc 0.52, Test Loss 1.5662, Test Acc 0.55\n",
            "Epoch 17: Train Loss 1.5674, Train Acc 0.52, Val Loss 1.5732, Val Acc 0.52, Test Loss 1.5752, Test Acc 0.54\n",
            "Epoch 18: Train Loss 1.5618, Train Acc 0.52, Val Loss 1.5685, Val Acc 0.52, Test Loss 1.5630, Test Acc 0.55\n",
            "Epoch 19: Train Loss 1.5517, Train Acc 0.52, Val Loss 1.5680, Val Acc 0.52, Test Loss 1.5618, Test Acc 0.55\n",
            "Epoch 20: Train Loss 1.5593, Train Acc 0.52, Val Loss 1.5606, Val Acc 0.52, Test Loss 1.5549, Test Acc 0.55\n",
            "Epoch 21: Train Loss 1.5585, Train Acc 0.52, Val Loss 1.5619, Val Acc 0.52, Test Loss 1.5542, Test Acc 0.55\n",
            "Epoch 22: Train Loss 1.5559, Train Acc 0.52, Val Loss 1.5696, Val Acc 0.52, Test Loss 1.5662, Test Acc 0.55\n",
            "Epoch 23: Train Loss 1.5537, Train Acc 0.52, Val Loss 1.5554, Val Acc 0.53, Test Loss 1.5526, Test Acc 0.55\n",
            "Epoch 24: Train Loss 1.5449, Train Acc 0.52, Val Loss 1.5595, Val Acc 0.52, Test Loss 1.5503, Test Acc 0.54\n",
            "Epoch 25: Train Loss 1.5419, Train Acc 0.52, Val Loss 1.5535, Val Acc 0.53, Test Loss 1.5483, Test Acc 0.55\n",
            "Epoch 26: Train Loss 1.5440, Train Acc 0.52, Val Loss 1.5558, Val Acc 0.52, Test Loss 1.5486, Test Acc 0.55\n",
            "Epoch 27: Train Loss 1.5402, Train Acc 0.52, Val Loss 1.5530, Val Acc 0.53, Test Loss 1.5450, Test Acc 0.55\n",
            "Epoch 28: Train Loss 1.5422, Train Acc 0.52, Val Loss 1.5513, Val Acc 0.53, Test Loss 1.5437, Test Acc 0.55\n",
            "Epoch 29: Train Loss 1.5408, Train Acc 0.52, Val Loss 1.5511, Val Acc 0.53, Test Loss 1.5405, Test Acc 0.55\n",
            "Epoch 30: Train Loss 1.5346, Train Acc 0.53, Val Loss 1.5466, Val Acc 0.53, Test Loss 1.5419, Test Acc 0.55\n",
            "Epoch 31: Train Loss 1.5378, Train Acc 0.52, Val Loss 1.5475, Val Acc 0.53, Test Loss 1.5428, Test Acc 0.55\n",
            "Epoch 32: Train Loss 1.5204, Train Acc 0.53, Val Loss 1.5443, Val Acc 0.53, Test Loss 1.5421, Test Acc 0.55\n",
            "Epoch 33: Train Loss 1.5279, Train Acc 0.53, Val Loss 1.5448, Val Acc 0.53, Test Loss 1.5373, Test Acc 0.55\n",
            "Epoch 34: Train Loss 1.5197, Train Acc 0.53, Val Loss 1.5444, Val Acc 0.52, Test Loss 1.5375, Test Acc 0.55\n",
            "Epoch 35: Train Loss 1.5231, Train Acc 0.53, Val Loss 1.5464, Val Acc 0.53, Test Loss 1.5357, Test Acc 0.55\n",
            "Epoch 36: Train Loss 1.5226, Train Acc 0.53, Val Loss 1.5416, Val Acc 0.53, Test Loss 1.5337, Test Acc 0.55\n",
            "Epoch 37: Train Loss 1.5217, Train Acc 0.53, Val Loss 1.5417, Val Acc 0.53, Test Loss 1.5343, Test Acc 0.55\n",
            "Epoch 38: Train Loss 1.5239, Train Acc 0.53, Val Loss 1.5399, Val Acc 0.53, Test Loss 1.5328, Test Acc 0.55\n",
            "Epoch 39: Train Loss 1.5239, Train Acc 0.53, Val Loss 1.5414, Val Acc 0.53, Test Loss 1.5317, Test Acc 0.55\n",
            "Epoch 40: Train Loss 1.5178, Train Acc 0.53, Val Loss 1.5394, Val Acc 0.53, Test Loss 1.5319, Test Acc 0.55\n",
            "Epoch 41: Train Loss 1.5170, Train Acc 0.53, Val Loss 1.5405, Val Acc 0.53, Test Loss 1.5305, Test Acc 0.55\n",
            "Epoch 42: Train Loss 1.5136, Train Acc 0.53, Val Loss 1.5379, Val Acc 0.53, Test Loss 1.5289, Test Acc 0.55\n",
            "Epoch 43: Train Loss 1.5259, Train Acc 0.52, Val Loss 1.5382, Val Acc 0.53, Test Loss 1.5299, Test Acc 0.55\n",
            "Epoch 44: Train Loss 1.5177, Train Acc 0.53, Val Loss 1.5376, Val Acc 0.53, Test Loss 1.5295, Test Acc 0.55\n",
            "Epoch 45: Train Loss 1.5105, Train Acc 0.53, Val Loss 1.5358, Val Acc 0.53, Test Loss 1.5288, Test Acc 0.55\n",
            "Epoch 46: Train Loss 1.5065, Train Acc 0.53, Val Loss 1.5354, Val Acc 0.53, Test Loss 1.5278, Test Acc 0.55\n",
            "Epoch 47: Train Loss 1.5091, Train Acc 0.53, Val Loss 1.5356, Val Acc 0.53, Test Loss 1.5276, Test Acc 0.55\n",
            "Epoch 48: Train Loss 1.5121, Train Acc 0.53, Val Loss 1.5352, Val Acc 0.53, Test Loss 1.5265, Test Acc 0.55\n",
            "Epoch 49: Train Loss 1.5131, Train Acc 0.53, Val Loss 1.5368, Val Acc 0.53, Test Loss 1.5254, Test Acc 0.55\n",
            "Epoch 50: Train Loss 1.5072, Train Acc 0.53, Val Loss 1.5374, Val Acc 0.53, Test Loss 1.5284, Test Acc 0.55\n",
            "Epoch 51: Train Loss 1.5136, Train Acc 0.53, Val Loss 1.5335, Val Acc 0.53, Test Loss 1.5252, Test Acc 0.55\n",
            "Epoch 52: Train Loss 1.5160, Train Acc 0.53, Val Loss 1.5321, Val Acc 0.53, Test Loss 1.5259, Test Acc 0.55\n",
            "Epoch 53: Train Loss 1.5143, Train Acc 0.53, Val Loss 1.5333, Val Acc 0.53, Test Loss 1.5265, Test Acc 0.55\n",
            "Epoch 54: Train Loss 1.5055, Train Acc 0.53, Val Loss 1.5336, Val Acc 0.53, Test Loss 1.5249, Test Acc 0.55\n",
            "Epoch 55: Train Loss 1.5178, Train Acc 0.53, Val Loss 1.5331, Val Acc 0.53, Test Loss 1.5244, Test Acc 0.55\n",
            "Epoch 56: Train Loss 1.5118, Train Acc 0.53, Val Loss 1.5336, Val Acc 0.53, Test Loss 1.5254, Test Acc 0.55\n",
            "Epoch 57: Train Loss 1.5057, Train Acc 0.53, Val Loss 1.5335, Val Acc 0.53, Test Loss 1.5255, Test Acc 0.55\n",
            "Epoch 58: Train Loss 1.5087, Train Acc 0.53, Val Loss 1.5335, Val Acc 0.53, Test Loss 1.5258, Test Acc 0.55\n",
            "Epoch 59: Train Loss 1.5070, Train Acc 0.53, Val Loss 1.5336, Val Acc 0.53, Test Loss 1.5261, Test Acc 0.55\n",
            "Epoch 60: Train Loss 1.5146, Train Acc 0.53, Val Loss 1.5339, Val Acc 0.53, Test Loss 1.5264, Test Acc 0.55\n",
            "Epoch 61: Train Loss 1.5130, Train Acc 0.53, Val Loss 1.5333, Val Acc 0.53, Test Loss 1.5260, Test Acc 0.55\n",
            "Epoch 62: Train Loss 1.5124, Train Acc 0.53, Val Loss 1.5337, Val Acc 0.53, Test Loss 1.5265, Test Acc 0.55\n",
            "Epoch 63: Train Loss 1.5100, Train Acc 0.53, Val Loss 1.5331, Val Acc 0.53, Test Loss 1.5275, Test Acc 0.55\n",
            "Epoch 64: Train Loss 1.5132, Train Acc 0.53, Val Loss 1.5330, Val Acc 0.53, Test Loss 1.5270, Test Acc 0.55\n",
            "Epoch 65: Train Loss 1.4986, Train Acc 0.53, Val Loss 1.5331, Val Acc 0.53, Test Loss 1.5263, Test Acc 0.55\n",
            "Epoch 66: Train Loss 1.5117, Train Acc 0.53, Val Loss 1.5331, Val Acc 0.53, Test Loss 1.5260, Test Acc 0.55\n",
            "Epoch 67: Train Loss 1.5017, Train Acc 0.53, Val Loss 1.5330, Val Acc 0.53, Test Loss 1.5276, Test Acc 0.55\n",
            "Epoch 68: Train Loss 1.5088, Train Acc 0.53, Val Loss 1.5330, Val Acc 0.53, Test Loss 1.5275, Test Acc 0.55\n",
            "Epoch 69: Train Loss 1.5126, Train Acc 0.53, Val Loss 1.5324, Val Acc 0.53, Test Loss 1.5260, Test Acc 0.55\n",
            "Epoch 70: Train Loss 1.5058, Train Acc 0.53, Val Loss 1.5324, Val Acc 0.53, Test Loss 1.5261, Test Acc 0.55\n",
            "Epoch 71: Train Loss 1.4981, Train Acc 0.53, Val Loss 1.5325, Val Acc 0.53, Test Loss 1.5258, Test Acc 0.55\n",
            "Epoch 72: Train Loss 1.5074, Train Acc 0.53, Val Loss 1.5324, Val Acc 0.53, Test Loss 1.5266, Test Acc 0.55\n",
            "Epoch 73: Train Loss 1.5044, Train Acc 0.53, Val Loss 1.5324, Val Acc 0.53, Test Loss 1.5252, Test Acc 0.55\n",
            "Epoch 74: Train Loss 1.5073, Train Acc 0.53, Val Loss 1.5338, Val Acc 0.53, Test Loss 1.5259, Test Acc 0.55\n",
            "Epoch 75: Train Loss 1.5033, Train Acc 0.53, Val Loss 1.5319, Val Acc 0.53, Test Loss 1.5257, Test Acc 0.55\n",
            "Epoch 76: Train Loss 1.4995, Train Acc 0.53, Val Loss 1.5335, Val Acc 0.53, Test Loss 1.5263, Test Acc 0.55\n",
            "Epoch 77: Train Loss 1.5008, Train Acc 0.53, Val Loss 1.5324, Val Acc 0.53, Test Loss 1.5263, Test Acc 0.55\n",
            "Epoch 78: Train Loss 1.5119, Train Acc 0.53, Val Loss 1.5328, Val Acc 0.53, Test Loss 1.5263, Test Acc 0.55\n",
            "Epoch 79: Train Loss 1.5002, Train Acc 0.53, Val Loss 1.5327, Val Acc 0.53, Test Loss 1.5262, Test Acc 0.55\n",
            "Epoch 80: Train Loss 1.5017, Train Acc 0.53, Val Loss 1.5332, Val Acc 0.53, Test Loss 1.5267, Test Acc 0.55\n",
            "Epoch 81: Train Loss 1.5027, Train Acc 0.53, Val Loss 1.5326, Val Acc 0.53, Test Loss 1.5258, Test Acc 0.55\n",
            "Epoch 82: Train Loss 1.4993, Train Acc 0.53, Val Loss 1.5324, Val Acc 0.53, Test Loss 1.5262, Test Acc 0.55\n",
            "Epoch 83: Train Loss 1.5025, Train Acc 0.53, Val Loss 1.5316, Val Acc 0.53, Test Loss 1.5259, Test Acc 0.55\n",
            "Epoch 84: Train Loss 1.5035, Train Acc 0.53, Val Loss 1.5318, Val Acc 0.53, Test Loss 1.5259, Test Acc 0.55\n",
            "Epoch 85: Train Loss 1.5025, Train Acc 0.53, Val Loss 1.5320, Val Acc 0.53, Test Loss 1.5263, Test Acc 0.55\n",
            "Epoch 86: Train Loss 1.5018, Train Acc 0.53, Val Loss 1.5327, Val Acc 0.53, Test Loss 1.5266, Test Acc 0.55\n",
            "Epoch 87: Train Loss 1.5059, Train Acc 0.53, Val Loss 1.5323, Val Acc 0.53, Test Loss 1.5263, Test Acc 0.55\n",
            "Epoch 88: Train Loss 1.5020, Train Acc 0.53, Val Loss 1.5316, Val Acc 0.53, Test Loss 1.5256, Test Acc 0.55\n",
            "Epoch 89: Train Loss 1.4974, Train Acc 0.53, Val Loss 1.5318, Val Acc 0.53, Test Loss 1.5262, Test Acc 0.55\n",
            "Epoch 90: Train Loss 1.4944, Train Acc 0.53, Val Loss 1.5321, Val Acc 0.53, Test Loss 1.5262, Test Acc 0.55\n",
            "Epoch 91: Train Loss 1.5037, Train Acc 0.53, Val Loss 1.5318, Val Acc 0.53, Test Loss 1.5261, Test Acc 0.55\n",
            "Epoch 92: Train Loss 1.5030, Train Acc 0.53, Val Loss 1.5316, Val Acc 0.53, Test Loss 1.5259, Test Acc 0.55\n",
            "Epoch 93: Train Loss 1.5084, Train Acc 0.53, Val Loss 1.5319, Val Acc 0.53, Test Loss 1.5259, Test Acc 0.55\n",
            "Epoch 94: Train Loss 1.5033, Train Acc 0.53, Val Loss 1.5320, Val Acc 0.53, Test Loss 1.5260, Test Acc 0.55\n",
            "Epoch 95: Train Loss 1.5050, Train Acc 0.53, Val Loss 1.5322, Val Acc 0.53, Test Loss 1.5263, Test Acc 0.55\n",
            "Epoch 96: Train Loss 1.5020, Train Acc 0.53, Val Loss 1.5318, Val Acc 0.53, Test Loss 1.5259, Test Acc 0.55\n",
            "Epoch 97: Train Loss 1.4956, Train Acc 0.53, Val Loss 1.5314, Val Acc 0.53, Test Loss 1.5254, Test Acc 0.55\n",
            "Epoch 98: Train Loss 1.4996, Train Acc 0.53, Val Loss 1.5323, Val Acc 0.53, Test Loss 1.5264, Test Acc 0.55\n",
            "Epoch 99: Train Loss 1.5039, Train Acc 0.53, Val Loss 1.5322, Val Acc 0.53, Test Loss 1.5258, Test Acc 0.55\n",
            "Epoch 100: Train Loss 1.4893, Train Acc 0.53, Val Loss 1.5326, Val Acc 0.53, Test Loss 1.5263, Test Acc 0.55\n"
          ]
        }
      ],
      "source": [
        "# Initialize the optimizer\n",
        "optimizer = Adam(model.parameters(), lr=0.001)  # you can adjust the learning rate if needed\n",
        "scheduler = StepLR(optimizer, step_size=1, gamma=0.95)  # Decays the learning rate of each parameter group by gamma every step_size epochs\n",
        "loss_function = nn.CrossEntropyLoss()\n",
        "\n",
        "train_losses = []\n",
        "train_accuracies = []\n",
        "val_losses = []\n",
        "val_accuracies = []\n",
        "test_losses = []\n",
        "test_accuracies = []\n",
        "\n",
        "best_val_loss = float('inf')\n",
        "best_model_state_dict = None\n",
        "\n",
        "def train_epoch(model, train_loader, device):\n",
        "    model.train()\n",
        "    model.to(device)\n",
        "    total_loss = 0\n",
        "    correct = 0\n",
        "    total = 0\n",
        "    for data, targets in train_loader:\n",
        "        data = data.to(device)\n",
        "        targets = targets.to(device)\n",
        "        optimizer.zero_grad()\n",
        "        output = model(data)\n",
        "        output_flat = output.view(-1, vocab_size)  # Flatten output to [batch_size * seq_len, vocab_size]\n",
        "        targets_flat = targets.view(-1)  # Flatten targets to [batch_size * seq_len]\n",
        "        loss = loss_function(output_flat, targets_flat)\n",
        "        loss.backward()\n",
        "\n",
        "        # Gradient Clipping\n",
        "        torch.nn.utils.clip_grad_norm_(model.parameters(), max_norm=1.0)\n",
        "\n",
        "        optimizer.step()\n",
        "        total_loss += loss.item()\n",
        "        _, predicted = torch.max(output_flat.data, 1)\n",
        "        total += targets_flat.size(0)\n",
        "        correct += (predicted == targets_flat).sum().item()\n",
        "\n",
        "\n",
        "    scheduler.step()  # Update the learning rate\n",
        "    average_loss = total_loss / len(train_loader)\n",
        "    accuracy = correct / total\n",
        "    return average_loss, accuracy\n",
        "\n",
        "\n",
        "def evaluate(model, data_loader, device):\n",
        "    model.eval()  # Set the model to evaluation mode\n",
        "    model.to(device)\n",
        "    total_loss = 0\n",
        "    correct = 0\n",
        "    total = 0\n",
        "\n",
        "    with torch.no_grad():\n",
        "        for data, targets in data_loader:\n",
        "            data = data.to(device)\n",
        "            targets = targets.to(device)\n",
        "            output = model(data)\n",
        "            output_flat = output.view(-1, vocab_size)\n",
        "            targets_flat = targets.view(-1)\n",
        "            loss = loss_function(output_flat, targets_flat)\n",
        "\n",
        "            total_loss += loss.item()\n",
        "            _, predicted = torch.max(output_flat, 1)\n",
        "            total += targets_flat.size(0)\n",
        "            correct += (predicted == targets_flat).sum().item()\n",
        "\n",
        "    average_loss = total_loss / len(data_loader)\n",
        "    accuracy = correct / total\n",
        "    return average_loss, accuracy\n",
        "\n",
        "\n",
        "early_stopping_counter = 0\n",
        "patience = 3  # Number of epochs to wait before early stopping if validation loss doesn't improve\n",
        "\n",
        "for epoch in range(100):\n",
        "    train_loss, train_accuracy = train_epoch(model, train_loader, device)\n",
        "    valid_loss, valid_accuracy = evaluate(model, validation_loader, device)  # Make sure to update evaluate similarly\n",
        "    test_loss, test_accuracy = evaluate(model, test_loader, device)\n",
        "\n",
        "    # Store metrics in lists for later analysis and plotting\n",
        "    train_losses.append(train_loss)\n",
        "    train_accuracies.append(train_accuracy)\n",
        "    val_losses.append(valid_loss)\n",
        "    val_accuracies.append(valid_accuracy)\n",
        "    test_losses.append(test_loss)\n",
        "    test_accuracies.append(test_accuracy)\n",
        "\n",
        "    print(f\"Epoch {epoch+1}: Train Loss {train_loss:.4f}, Train Acc {train_accuracy:.2f}, Val Loss {valid_loss:.4f}, Val Acc {valid_accuracy:.2f}, Test Loss {test_loss:.4f}, Test Acc {test_accuracy:.2f}\")\n",
        "\n",
        "    # Update best model if validation loss improves\n",
        "    if valid_loss < best_val_loss:\n",
        "        best_val_loss = valid_loss\n",
        "        best_model_state_dict = model.state_dict()\n",
        "\n",
        "# Save the best model\n",
        "# Get the current timezone\n",
        "timestamp = datetime.now().strftime(\"%Y%m%d%H%M%S\")\n",
        "# Save the DataFrame to a CSV file with the timezone in its name\n",
        "model_file_name = f\"models/model_{timestamp}.pth\"\n",
        "torch.save(best_model_state_dict, base_path + model_file_name)"
      ]
    },
    {
      "cell_type": "code",
      "execution_count": 92,
      "metadata": {
        "colab": {
          "base_uri": "https://localhost:8080/",
          "height": 595
        },
        "id": "YLADAGEBWitp",
        "outputId": "59344b13-cd93-488a-9ce0-7aded9aeb51b"
      },
      "outputs": [
        {
          "data": {
            "image/png": "[encoded data removed]",
            "text/plain": [
              "<Figure size 1200x600 with 2 Axes>"
            ]
          },
          "metadata": {},
          "output_type": "display_data"
        }
      ],
      "source": [
        "plt.figure(figsize=(12, 6))\n",
        "\n",
        "plt.subplot(1, 2, 1)\n",
        "plt.plot(train_losses, label='Train Loss')\n",
        "plt.plot(val_losses, label='Validation Loss')\n",
        "plt.plot(test_losses, label='Test Loss')\n",
        "plt.title('Loss over epochs')\n",
        "plt.xlabel('Epochs')\n",
        "plt.ylabel('Loss')\n",
        "plt.legend()\n",
        "\n",
        "plt.subplot(1, 2, 2)\n",
        "plt.plot(train_accuracies, label='Train Accuracy')\n",
        "plt.plot(val_accuracies, label='Validation Accuracy')\n",
        "plt.plot(test_accuracies, label='Test Accuracy')\n",
        "plt.title('Accuracy over epochs')\n",
        "plt.xlabel('Epochs')\n",
        "plt.ylabel('Accuracy')\n",
        "plt.legend()\n",
        "\n",
        "plt.tight_layout()\n",
        "plt.show()\n"
      ]
    },
    {
      "cell_type": "code",
      "execution_count": 93,
      "metadata": {
        "id": "OVDlA34LnoB1"
      },
      "outputs": [],
      "source": [
        "def load_model_and_vocab(model_path, vocab_path):\n",
        "    # Load your trained model and vocabulary from the specified paths\n",
        "    model = torch.load(model_path)\n",
        "    vocab = torch.load(vocab_path)\n",
        "    return model, vocab\n",
        "\n",
        "def generate_passwords(model, vocab, num_passwords, password_length, device='cpu'):\n",
        "    model.eval()  # Set the model to evaluation mode\n",
        "    model.to(device)\n",
        "    stoi = vocab.get_stoi()  # Mapping from characters to indices\n",
        "    itos = vocab.get_itos()  # Mapping from indices to characters\n",
        "    sos_index = stoi['<sos>']  # Start of sequence token index\n",
        "    passwords = []\n",
        "\n",
        "    for _ in range(num_passwords):\n",
        "        password = []\n",
        "        input_seq = torch.tensor([[sos_index]], dtype=torch.long).to(device)\n",
        "\n",
        "        for _ in range(password_length):\n",
        "            with torch.no_grad():\n",
        "                output = model(input_seq)\n",
        "                probabilities = F.softmax(output[:, -1, :], dim=-1)\n",
        "                next_token = torch.multinomial(probabilities, 1)\n",
        "                password.append(itos[next_token.item()])\n",
        "                next_token = next_token.view(1, 1)\n",
        "                input_seq = torch.cat([input_seq, next_token], dim=1)\n",
        "\n",
        "        passwords.append(''.join(password).replace('<eos>', ''))  # Remove end of sequence token if present\n",
        "\n",
        "    return passwords\n"
      ]
    },
    {
      "cell_type": "code",
      "execution_count": 94,
      "metadata": {
        "colab": {
          "base_uri": "https://localhost:8080/"
        },
        "id": "hxOuo3UbnsPQ",
        "outputId": "02b114cb-3758-4a45-aef4-5eccd2192d3f"
      },
      "outputs": [
        {
          "name": "stdout",
          "output_type": "stream",
          "text": [
            "Generated Password: enzhhooferba\n",
            "Generated Password: rasame152391\n",
            "Generated Password: hetininearey\n",
            "Generated Password: hindegeoprin\n",
            "Generated Password: toncosanittt\n",
            "Generated Password: ipapucrlishe\n",
            "Generated Password: imeriqlitese\n",
            "Generated Password: riandichanun\n",
            "Generated Password: amatianedizt\n",
            "Generated Password: brrinkbaicha\n"
          ]
        }
      ],
      "source": [
        "# Usage example:\n",
        "# model, vocab = load_model_and_vocab('model.pth', 'vocab.pth')\n",
        "generated_passwords = generate_passwords(model, vocab, num_passwords=10, password_length=12)\n",
        "for pwd in generated_passwords:\n",
        "    print(f\"Generated Password: {pwd}\")"
      ]
    }
  ],
  "metadata": {
    "accelerator": "GPU",
    "colab": {
      "gpuType": "T4",
      "machine_shape": "hm",
      "provenance": []
    },
    "kernelspec": {
      "display_name": "Python 3",
      "name": "python3"
    },
    "language_info": {
      "codemirror_mode": {
        "name": "ipython",
        "version": 3
      },
      "file_extension": ".py",
      "mimetype": "text/x-python",
      "name": "python",
      "nbconvert_exporter": "python",
      "pygments_lexer": "ipython3",
      "version": "3.9.6"
    }
  },
  "nbformat": 4,
  "nbformat_minor": 0
}
